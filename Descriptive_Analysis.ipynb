{
 "cells": [
  {
   "cell_type": "markdown",
   "metadata": {},
   "source": [
    "# Separating start and exit data"
   ]
  },
  {
   "cell_type": "code",
   "execution_count": 1,
   "metadata": {},
   "outputs": [],
   "source": [
    "f=open(\"logfile.txt\",\"r\")\n",
    "f1=open(\"start_data.txt\",\"w\")\n",
    "f2=open(\"exit_data.txt\",\"w\")\n",
    "for line in f:\n",
    "    if \"START\" in line:\n",
    "        f1.write(line)\n",
    "    else:\n",
    "        f2.write(line)\n",
    "    \n",
    "f.close()\n",
    "f1.close()\n",
    "f2.close()\n",
    "    "
   ]
  },
  {
   "cell_type": "markdown",
   "metadata": {},
   "source": [
    "# Reading the log files"
   ]
  },
  {
   "cell_type": "code",
   "execution_count": 2,
   "metadata": {
    "scrolled": true
   },
   "outputs": [
    {
     "name": "stdout",
     "output_type": "stream",
     "text": [
      "   0                  1         2    3    4   5     6         7       8   \\\n",
      "0   0  00000011.005bf888  11235fec  Tue  Jan   2  2018  12:20:25  +05:30   \n",
      "1   2  00000011.005bf8a5  112360e6  Tue  Jan   2  2018  12:20:50  +05:30   \n",
      "2   4  00000011.005bf8c2  1123610f  Tue  Jan   2  2018  12:20:55  +05:30   \n",
      "\n",
      "                          9      10   11         12              13       14  \\\n",
      "0  [daemon_xinetd:info:7828]  START  ssh  pid=60661  157.227.25.219  vsid=-1   \n",
      "1  [daemon_xinetd:info:7828]  START  ssh  pid=60686  157.227.25.219  vsid=-1   \n",
      "2  [daemon_xinetd:info:7828]  START  ssh  pid=60711  157.227.25.219  vsid=-1   \n",
      "\n",
      "          15        16  \n",
      "0  role=0x10    public  \n",
      "1  role=0x10  password  \n",
      "2  role=0x10    public  \n",
      "   0                  1         2    3    4   5     6         7       8   \\\n",
      "0   1  00000011.005bf8a4  1123600d  Tue  Jan   2  2018  12:20:30  +05:30   \n",
      "1   3  00000011.005bf8c1  112360e6  Tue  Jan   2  2018  12:20:51  +05:30   \n",
      "2   5  00000011.005bf8e7  11236128  Tue  Jan   2  2018  12:20:58  +05:30   \n",
      "\n",
      "                          9     10   11        12         13  14        15  \n",
      "0  [daemon_xinetd:info:7828]  EXIT  ssh  status=0  pid=60661   5    public  \n",
      "1  [daemon_xinetd:info:7828]  EXIT  ssh  status=0  pid=60686   1  password  \n",
      "2  [daemon_xinetd:info:7828]  EXIT  ssh  status=0  pid=60711   3    public  \n"
     ]
    }
   ],
   "source": [
    "import pandas as pd\n",
    "df1=pd.read_csv('start_data.txt', sep='\\s+',header=None)\n",
    "print(df1.head(3))\n",
    "df2=pd.read_csv('exit_data.txt', sep='\\s+',header=None)\n",
    "print(df2.head(3))\n",
    "# df3=pd.read_csv('C:\\\\Users\\\\TCS\\\\Downloads\\\\Shikher\\\\Shikher\\\\logfile.txt', sep='\\s+',header=None)\n",
    "# # df3.columns=['Month_start','Date_start','Year_start','Time_start(sec)','Action_start','IP','Month_exit','Date_exit','Year_exit','Time_exit','Action_exit','Duration(sec)','Time_numeric(sec)','Auth_mode','IP_address','public_mode','password_mode','connections','first_start','last_exit']\n",
    "# df3.to_csv('C:\\\\Users\\\\TCS\\\\Downloads\\\\Shikher\\\\Shikher\\\\logfile.csv', sep='\\t', encoding='utf-8')\n",
    "# print(df3)"
   ]
  },
  {
   "cell_type": "markdown",
   "metadata": {},
   "source": [
    "# Cleaning the log files"
   ]
  },
  {
   "cell_type": "code",
   "execution_count": 3,
   "metadata": {},
   "outputs": [
    {
     "name": "stdout",
     "output_type": "stream",
     "text": [
      "    4   5     6         7      10              13        16\n",
      "0  Jan   2  2018  12:20:25  START  157.227.25.219    public\n",
      "1  Jan   2  2018  12:20:50  START  157.227.25.219  password\n",
      "2  Jan   2  2018  12:20:55  START  157.227.25.219    public\n",
      "    4   5     6         7     10  14\n",
      "0  Jan   2  2018  12:20:30  EXIT   5\n",
      "1  Jan   2  2018  12:20:51  EXIT   1\n",
      "2  Jan   2  2018  12:20:58  EXIT   3\n"
     ]
    }
   ],
   "source": [
    "# df=df.drop('0,1,2,7,8,10,11,13,14',axis=1,inplace=True)\n",
    "df1=df1.drop(df1.columns[[0,1,2,3,8,9,11,12,14,15]], axis=1)  \n",
    "print(df1.head(3))\n",
    "\n",
    "df2=df2.drop(df2.columns[[0,1,2,3,8,9,11,12,13,15]], axis=1)  \n",
    "print(df2.head(3))"
   ]
  },
  {
   "cell_type": "markdown",
   "metadata": {},
   "source": [
    "# Merging start and exit data"
   ]
  },
  {
   "cell_type": "code",
   "execution_count": 4,
   "metadata": {},
   "outputs": [
    {
     "name": "stdout",
     "output_type": "stream",
     "text": [
      "  start_month  start_date  start_year start_time action_start              ip  \\\n",
      "0         Jan           2        2018   12:20:25        START  157.227.25.219   \n",
      "1         Jan           2        2018   12:20:50        START  157.227.25.219   \n",
      "2         Jan           2        2018   12:20:55        START  157.227.25.219   \n",
      "3         Jan           2        2018   13:13:44        START   157.227.25.54   \n",
      "\n",
      "  access_mode  \n",
      "0      public  \n",
      "1    password  \n",
      "2      public  \n",
      "3      public  \n",
      "  exit_month  exit_date  exit_year exit_time action_exit  duration_in_sec\n",
      "0        Jan          2       2018  12:20:30        EXIT                5\n",
      "1        Jan          2       2018  12:20:51        EXIT                1\n",
      "2        Jan          2       2018  12:20:58        EXIT                3\n",
      "3        Jan          2       2018  18:42:30        EXIT            19726\n",
      "  start_month  start_date  start_year start_time action_start              ip  \\\n",
      "0         Jan           2        2018   12:20:25        START  157.227.25.219   \n",
      "1         Jan           2        2018   12:20:50        START  157.227.25.219   \n",
      "\n",
      "  access_mode exit_month  exit_date  exit_year exit_time action_exit  \\\n",
      "0      public        Jan          2       2018  12:20:30        EXIT   \n",
      "1    password        Jan          2       2018  12:20:51        EXIT   \n",
      "\n",
      "   duration_in_sec  \n",
      "0                5  \n",
      "1                1  \n"
     ]
    }
   ],
   "source": [
    "df1.columns = ['start_month', 'start_date','start_year','start_time','action_start','ip','access_mode']\n",
    "df2.columns = ['exit_month', 'exit_date','exit_year','exit_time','action_exit','duration_in_sec']\n",
    "print(df1.head(4))\n",
    "print(df2.head(4))\n",
    "df=pd.concat([df1,df2],axis=1)\n",
    "print(df.head(2))\n",
    "df.to_csv('data.csv', sep='\\t', encoding='utf-8')\n"
   ]
  },
  {
   "cell_type": "markdown",
   "metadata": {},
   "source": [
    "# Preparing data for the plot"
   ]
  },
  {
   "cell_type": "code",
   "execution_count": 5,
   "metadata": {},
   "outputs": [
    {
     "name": "stdout",
     "output_type": "stream",
     "text": [
      "length =  98\n",
      "               ip  public_mode  password_mode  connections  first_start  \\\n",
      "0  157.227.25.219           14              5           19            0   \n",
      "1   157.227.25.54            9              5           14            3   \n",
      "2   157.227.25.50            7              5           12            4   \n",
      "3  157.227.25.150            5             11           16            7   \n",
      "4   157.227.25.78           17             19           36            8   \n",
      "\n",
      "   last_exit  total_duration(sec)  \n",
      "0         85                   13  \n",
      "1         82                19729  \n",
      "2         90                21106  \n",
      "3         89                 1264  \n",
      "4         97                   16  \n"
     ]
    }
   ],
   "source": [
    "import numpy as np\n",
    "\n",
    "#UNIQUE IP\n",
    "\n",
    "total_rows=df['ip'].count()\n",
    "print(\"length = \",total_rows)\n",
    "ip=df.ip.unique()\n",
    "se = pd.Series(ip)\n",
    "df4= pd.DataFrame()\n",
    "df4['ip'] = se.values\n",
    "\n",
    "#NUMBER OF PUBLIC MODES\n",
    "\n",
    "public=[]\n",
    "\n",
    "for i in ip:\n",
    "    ctr=0\n",
    "    for y in range (0,total_rows-1):\n",
    "        if (df.iloc[y]['access_mode']=='public'):\n",
    "            if(df.iloc[y]['ip']==i):\n",
    "                ctr=ctr+1\n",
    "    public.append(ctr)\n",
    "\n",
    "\n",
    "se = pd.Series(public)\n",
    "df4['public_mode'] = se.values\n",
    "\n",
    "#NUMBER OF PASSWORD MODES\n",
    "\n",
    "password=[]\n",
    "\n",
    "for i in ip:\n",
    "    ctr=0\n",
    "    for y in range (0,total_rows-1):\n",
    "        if (df.iloc[y]['access_mode']=='password'):\n",
    "            if(df.iloc[y]['ip']==i):\n",
    "                ctr=ctr+1\n",
    "    password.append(ctr)\n",
    "\n",
    "\n",
    "se = pd.Series(password)\n",
    "df4['password_mode'] = se.values\n",
    "\n",
    "#NUMBER OF CONNECTIONS\n",
    "\n",
    "connection=[]\n",
    "\n",
    "for i in ip:\n",
    "    ctr=0\n",
    "    for y in range (0,total_rows-1):\n",
    "         if(df.iloc[y]['ip']==i):\n",
    "            ctr=ctr+1\n",
    "    connection.append(ctr)\n",
    "\n",
    "\n",
    "se = pd.Series(connection)\n",
    "df4['connections'] = se.values\n",
    "\n",
    "#FIRST_START\n",
    "\n",
    "start=[]\n",
    "\n",
    "for i in ip:\n",
    "    ctr=-1\n",
    "    for y in range (0,total_rows-1):\n",
    "        ctr=ctr+1\n",
    "        if(df.iloc[y]['ip']==i):\n",
    "            break;\n",
    "    start.append(ctr)\n",
    "\n",
    "\n",
    "se = pd.Series(start)\n",
    "df4['first_start'] = se.values\n",
    "\n",
    "#LAST_EXIT\n",
    "\n",
    "last=[]\n",
    "\n",
    "for i in ip:\n",
    "    ctr=98\n",
    "    for y in range (total_rows-1,0,-1):\n",
    "        ctr=ctr-1\n",
    "        if(df.iloc[y]['ip']==i):\n",
    "            break;\n",
    "    last.append(ctr)\n",
    "\n",
    "se = pd.Series(last)\n",
    "df4['last_exit'] = se.values\n",
    "\n",
    "#DURATION\n",
    "\n",
    "duration=[]\n",
    "\n",
    "for i in ip:\n",
    "    ctr=0\n",
    "    for y in range (0,total_rows-1):\n",
    "         if(df.iloc[y]['ip']==i):\n",
    "            ctr=ctr+(df.iloc[y]['duration_in_sec'])\n",
    "    duration.append(ctr)\n",
    "\n",
    "\n",
    "se = pd.Series(duration)\n",
    "df4['total_duration(sec)'] = se.values\n",
    "\n",
    "\n",
    "#SAVING GENERATED DATA \n",
    "df4.to_csv('data_generated.csv', sep='\\t', encoding='utf-8')\n",
    "print(df4)\n"
   ]
  },
  {
   "cell_type": "markdown",
   "metadata": {
    "collapsed": true
   },
   "source": [
    "# Plotting graph for data"
   ]
  },
  {
   "cell_type": "code",
   "execution_count": 6,
   "metadata": {},
   "outputs": [],
   "source": [
    "from matplotlib import pyplot as plt\n",
    "#%matplotlib inline\n",
    "import seaborn as sns"
   ]
  },
  {
   "cell_type": "markdown",
   "metadata": {},
   "source": [
    "### BAR GRAPH ( CONNECTIONS VS IP_ADRESS )"
   ]
  },
  {
   "cell_type": "code",
   "execution_count": 7,
   "metadata": {
    "scrolled": true
   },
   "outputs": [
    {
     "data": {
      "image/png": "[encoded data removed]",
      "text/plain": [
       "<matplotlib.figure.Figure at 0x19e177a83c8>"
      ]
     },
     "metadata": {},
     "output_type": "display_data"
    }
   ],
   "source": [
    "sns.barplot(x='connections',y='ip',data=df4)\n",
    "plt.show()"
   ]
  },
  {
   "cell_type": "markdown",
   "metadata": {},
   "source": [
    "### BAR GRAPH ( PUBLIC_CONNECTIONS VS IP_ADRESS )"
   ]
  },
  {
   "cell_type": "code",
   "execution_count": 8,
   "metadata": {
    "scrolled": true
   },
   "outputs": [
    {
     "data": {
      "image/png": "[encoded data removed]",
      "text/plain": [
       "<matplotlib.figure.Figure at 0x19e17a86588>"
      ]
     },
     "metadata": {},
     "output_type": "display_data"
    }
   ],
   "source": [
    "sns.barplot(x='public_mode',y='ip',data=df4)\n",
    "plt.show()"
   ]
  },
  {
   "cell_type": "markdown",
   "metadata": {},
   "source": [
    "### BAR GRAPH ( PASSWORD_CONNECTIONS VS IP_ADRESS )"
   ]
  },
  {
   "cell_type": "code",
   "execution_count": 9,
   "metadata": {},
   "outputs": [
    {
     "data": {
      "image/png": "[encoded data removed]",
      "text/plain": [
       "<matplotlib.figure.Figure at 0x19e177067f0>"
      ]
     },
     "metadata": {},
     "output_type": "display_data"
    }
   ],
   "source": [
    "sns.barplot(x='password_mode',y='ip',data=df4)\n",
    "plt.show()"
   ]
  },
  {
   "cell_type": "markdown",
   "metadata": {},
   "source": [
    "### BAR GRAPH ( FIRST_START VS IP_ADRESS )"
   ]
  },
  {
   "cell_type": "code",
   "execution_count": 10,
   "metadata": {},
   "outputs": [
    {
     "data": {
      "image/png": "[encoded data removed]",
      "text/plain": [
       "<matplotlib.figure.Figure at 0x19e178f2320>"
      ]
     },
     "metadata": {},
     "output_type": "display_data"
    }
   ],
   "source": [
    "sns.barplot(x='first_start',y='ip',data=df4)\n",
    "plt.show()"
   ]
  },
  {
   "cell_type": "markdown",
   "metadata": {},
   "source": [
    "### BAR GRAPH ( LAST_EXIT VS IP_ADRESS )"
   ]
  },
  {
   "cell_type": "code",
   "execution_count": 11,
   "metadata": {},
   "outputs": [
    {
     "data": {
      "image/png": "[encoded data removed]",
      "text/plain": [
       "<matplotlib.figure.Figure at 0x19e179ed6a0>"
      ]
     },
     "metadata": {},
     "output_type": "display_data"
    }
   ],
   "source": [
    "sns.barplot(x='last_exit',y='ip',data=df4)\n",
    "plt.show()"
   ]
  },
  {
   "cell_type": "markdown",
   "metadata": {},
   "source": [
    "### BAR GRAPH ( TOTAL_DURATION VS IP_ADRESS )"
   ]
  },
  {
   "cell_type": "code",
   "execution_count": 12,
   "metadata": {},
   "outputs": [
    {
     "data": {
      "image/png": "[encoded data removed]",
      "text/plain": [
       "<matplotlib.figure.Figure at 0x19e179fbbe0>"
      ]
     },
     "metadata": {},
     "output_type": "display_data"
    }
   ],
   "source": [
    "sns.barplot(x='total_duration(sec)',y='ip',data=df4)\n",
    "plt.show()"
   ]
  },
  {
   "cell_type": "code",
   "execution_count": null,
   "metadata": {
    "collapsed": true
   },
   "outputs": [],
   "source": []
  },
  {
   "cell_type": "code",
   "execution_count": null,
   "metadata": {
    "collapsed": true
   },
   "outputs": [],
   "source": []
  }
 ],
 "metadata": {
  "kernelspec": {
   "display_name": "Python 3",
   "language": "python",
   "name": "python3"
  },
  "language_info": {
   "codemirror_mode": {
    "name": "ipython",
    "version": 3
   },
   "file_extension": ".py",
   "mimetype": "text/x-python",
   "name": "python",
   "nbconvert_exporter": "python",
   "pygments_lexer": "ipython3",
   "version": "3.6.4"
  }
 },
 "nbformat": 4,
 "nbformat_minor": 2
}
